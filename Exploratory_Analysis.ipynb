{
 "cells": [
  {
   "cell_type": "code",
   "execution_count": 1,
   "metadata": {
    "collapsed": true
   },
   "outputs": [],
   "source": [
    "from __future__ import division\n",
    "import os\n",
    "import numpy as np \n",
    "import pandas as pd\n",
    "from helpers import data_provider\n",
    "import matplotlib.pyplot as plt\n",
    "import seaborn as sns"
   ]
  },
  {
   "cell_type": "code",
   "execution_count": 3,
   "metadata": {
    "collapsed": false
   },
   "outputs": [
    {
     "name": "stderr",
     "output_type": "stream",
     "text": [
      "C:\\Users\\chris\\Anaconda3\\envs\\mlp\\lib\\site-packages\\matplotlib\\__init__.py:913: UserWarning: text.fontsize is deprecated and replaced with font.size; please use the latter.\n",
      "  warnings.warn(self.msg_depr % (key, alt_key))\n"
     ]
    }
   ],
   "source": [
    "# figure adjustments for compatibility with latex\n",
    "%matplotlib inline\n",
    "plt.style.use('classic')\n",
    "plt.rc(\"figure\", facecolor=\"white\")\n",
    "\n",
    "\n",
    "fig_width_pt = 469.755  # Get this from LaTeX using \\showthe\\columnwidth\n",
    "inches_per_pt = 1.0/72.27               # Convert pt to inch\n",
    "golden_mean = (np.sqrt(5)-1.0)/2.0         # Aesthetic ratio\n",
    "fig_width = fig_width_pt*inches_per_pt  # width in inches\n",
    "fig_height = fig_width*golden_mean      # height in inches\n",
    "fig_size =  [fig_width,fig_height]\n",
    "params = {'backend': 'ps',\n",
    "          'axes.labelsize': 10,\n",
    "          'text.fontsize': 10,\n",
    "          'legend.fontsize': 10,\n",
    "          'xtick.labelsize': 8,\n",
    "          'ytick.labelsize': 8,\n",
    "          'text.usetex': True,\n",
    "          'figure.figsize': fig_size}\n",
    "plt.rc('font', **{'family': 'serif', 'serif': ['Computer Modern']})\n",
    "plt.rcParams.update(params)"
   ]
  },
  {
   "cell_type": "code",
   "execution_count": 4,
   "metadata": {
    "collapsed": true
   },
   "outputs": [],
   "source": [
    "# load the data set\n",
    "data_process = pd.read_csv('clean_houses_95.csv',parse_dates=['Time'], index_col='Time')\n",
    "data = data_process.copy(deep=True)"
   ]
  },
  {
   "cell_type": "code",
   "execution_count": 5,
   "metadata": {
    "collapsed": true
   },
   "outputs": [],
   "source": [
    "# keep the date time window which is used for modeling\n",
    "data = data['2014-04':'2015-03']"
   ]
  },
  {
   "cell_type": "code",
   "execution_count": 6,
   "metadata": {
    "collapsed": true
   },
   "outputs": [],
   "source": [
    "# create seasonal variables\n",
    "data['Hour'] =  pd.DatetimeIndex(data.index).hour\n",
    "data['Day'] = pd.DatetimeIndex(data.index).weekday_name\n",
    "data['Month'] = pd.DatetimeIndex(data.index).month"
   ]
  },
  {
   "cell_type": "code",
   "execution_count": null,
   "metadata": {
    "collapsed": true
   },
   "outputs": [],
   "source": []
  },
  {
   "cell_type": "markdown",
   "metadata": {},
   "source": [
    "## Hourly Exploration"
   ]
  },
  {
   "cell_type": "code",
   "execution_count": 7,
   "metadata": {
    "collapsed": false
   },
   "outputs": [],
   "source": [
    "# keep the house of choice for modelling and the time variable\n",
    "data_modeling = data.copy(deep=True)\n",
    "data_modeling = data_modeling.drop(['Day','Month'],axis=1)\n",
    "houses=[1,2,4,5,6,7,8,9,10,12,13,15,16,17,18,19,20]\n",
    "house_nr = 4\n",
    "drop_houses = ['House_'+str(i) for i in houses if i != house_nr]\n",
    "data_modeling4 = data_modeling.drop(drop_houses, axis=1)\n",
    "df4 = data_modeling4.pivot(columns=data_modeling4.columns[1], index=data_modeling4.index)\n",
    "df4.columns = df4.columns.droplevel()"
   ]
  },
  {
   "cell_type": "code",
   "execution_count": 8,
   "metadata": {
    "collapsed": true
   },
   "outputs": [],
   "source": [
    "house_nr = 6\n",
    "drop_houses = ['House_'+str(i) for i in houses if i != house_nr]\n",
    "data_modeling6 = data_modeling.drop(drop_houses, axis=1)\n",
    "df6 = data_modeling6.pivot(columns=data_modeling6.columns[1], index=data_modeling6.index)\n",
    "df6.columns = df6.columns.droplevel()"
   ]
  },
  {
   "cell_type": "code",
   "execution_count": 9,
   "metadata": {
    "collapsed": true
   },
   "outputs": [],
   "source": [
    "house_nr = 13\n",
    "drop_houses = ['House_'+str(i) for i in houses if i != house_nr]\n",
    "data_modeling13 = data_modeling.drop(drop_houses, axis=1)\n",
    "df13 = data_modeling13.pivot(columns=data_modeling13.columns[1], index=data_modeling13.index)\n",
    "df13.columns = df13.columns.droplevel()"
   ]
  },
  {
   "cell_type": "code",
   "execution_count": 10,
   "metadata": {
    "collapsed": true
   },
   "outputs": [],
   "source": [
    "house_nr = 16\n",
    "drop_houses = ['House_'+str(i) for i in houses if i != house_nr]\n",
    "data_modeling16 = data_modeling.drop(drop_houses, axis=1)\n",
    "df16 = data_modeling16.pivot(columns=data_modeling16.columns[1], index=data_modeling16.index)\n",
    "df16.columns = df16.columns.droplevel()"
   ]
  },
  {
   "cell_type": "code",
   "execution_count": 11,
   "metadata": {
    "collapsed": true
   },
   "outputs": [],
   "source": [
    "flierprops = dict(marker='.', markerfacecolor='grey', markersize=4, fillstyle='none',\n",
    "                  linestyle='none')"
   ]
  },
  {
   "cell_type": "code",
   "execution_count": 12,
   "metadata": {
    "collapsed": false,
    "scrolled": true
   },
   "outputs": [
    {
     "data": {
      "text/plain": [
       "<matplotlib.figure.Figure at 0x1c75be80ac8>"
      ]
     },
     "metadata": {},
     "output_type": "display_data"
    },
    {
     "data": {
      "image/png": "[encoded data removed]",
      "text/plain": [
       "<matplotlib.figure.Figure at 0x1c75be80b00>"
      ]
     },
     "metadata": {},
     "output_type": "display_data"
    }
   ],
   "source": [
    "plt.figure(1)\n",
    "f, (ax1, ax2, ax3, ax4) = plt.subplots(4,sharex=True, sharey=True)\n",
    "\n",
    "sns.boxplot(data=df4, ax=ax1,flierprops= flierprops)\n",
    "sns.boxplot(data=df6, ax=ax2,flierprops= flierprops)\n",
    "sns.boxplot(data=df13, ax=ax3,flierprops= flierprops)\n",
    "sns.boxplot(data=df16, ax=ax4,flierprops= flierprops)\n",
    "# Fine-tune figure; make subplots close to each other and hide x ticks for\n",
    "# all but bottom plot.\n",
    "#f.subplots_adjust(hspace=0)\n",
    "plt.setp([a.get_xticklabels() for a in f.axes[:-1]], visible=False)\n",
    "ax4.set_xlabel('Hour')\n",
    "ax2.set_xlabel('')\n",
    "ax3.set_xlabel('')\n",
    "ax1.set_xlabel('')\n",
    "ax1.set_title('House 4', rotation='vertical',x= 1.05,y=0.6)\n",
    "ax2.set_title('House 6', rotation='vertical',x= 1.05,y=0.6)\n",
    "ax3.set_title('House 13', rotation='vertical',x= 1.05,y=0.6)\n",
    "ax4.set_title('House 16', rotation='vertical',x= 1.05,y=0.6)\n",
    "ax1.set_ylabel('Electricity Consumption (kWh)',rotation='vertical',x= -0.05,y=-1.0)\n",
    "f.suptitle('Hourly Electricity Consumption Summary')\n",
    "plt.savefig('figures/95_percent/hourly_houses.eps')\n",
    "plt.savefig('figures/95_percent/hourly_houses.pdf')"
   ]
  },
  {
   "cell_type": "markdown",
   "metadata": {
    "collapsed": true
   },
   "source": [
    "## Daily exploration"
   ]
  },
  {
   "cell_type": "code",
   "execution_count": 13,
   "metadata": {
    "collapsed": true
   },
   "outputs": [],
   "source": [
    "# keep the house of choice for modelling and the time variable\n",
    "data_modeling = data.copy(deep=True)\n",
    "data_modeling = data_modeling.drop(['Hour','Month'],axis=1)\n",
    "houses=[1,2,4,5,6,7,8,9,10,12,13,15,16,17,18,19,20]\n",
    "house_nr = 4\n",
    "drop_houses = ['House_'+str(i) for i in houses if i != house_nr]\n",
    "data_modeling4 = data_modeling.drop(drop_houses, axis=1)\n",
    "df4 = data_modeling4.pivot(columns=data_modeling4.columns[1], index=data_modeling4.index)\n",
    "df4.columns = df4.columns.droplevel()"
   ]
  },
  {
   "cell_type": "code",
   "execution_count": 14,
   "metadata": {
    "collapsed": true
   },
   "outputs": [],
   "source": [
    "house_nr = 6\n",
    "drop_houses = ['House_'+str(i) for i in houses if i != house_nr]\n",
    "data_modeling6 = data_modeling.drop(drop_houses, axis=1)\n",
    "df6 = data_modeling6.pivot(columns=data_modeling6.columns[1], index=data_modeling6.index)\n",
    "df6.columns = df6.columns.droplevel()"
   ]
  },
  {
   "cell_type": "code",
   "execution_count": 15,
   "metadata": {
    "collapsed": true
   },
   "outputs": [],
   "source": [
    "house_nr = 13\n",
    "drop_houses = ['House_'+str(i) for i in houses if i != house_nr]\n",
    "data_modeling13 = data_modeling.drop(drop_houses, axis=1)\n",
    "df13 = data_modeling13.pivot(columns=data_modeling13.columns[1], index=data_modeling13.index)\n",
    "df13.columns = df13.columns.droplevel()"
   ]
  },
  {
   "cell_type": "code",
   "execution_count": 16,
   "metadata": {
    "collapsed": true
   },
   "outputs": [],
   "source": [
    "house_nr = 16\n",
    "drop_houses = ['House_'+str(i) for i in houses if i != house_nr]\n",
    "data_modeling16 = data_modeling.drop(drop_houses, axis=1)\n",
    "df16 = data_modeling16.pivot(columns=data_modeling16.columns[1], index=data_modeling16.index)\n",
    "df16.columns = df16.columns.droplevel()"
   ]
  },
  {
   "cell_type": "code",
   "execution_count": 17,
   "metadata": {
    "collapsed": false
   },
   "outputs": [],
   "source": [
    "cols = ['Monday','Tuesday','Wednesday','Thursday','Friday','Saturday','Sunday']\n",
    "df4 = df4[cols]\n",
    "df6 = df6[cols]\n",
    "df13 = df13[cols]\n",
    "df16 = df16[cols]"
   ]
  },
  {
   "cell_type": "code",
   "execution_count": 18,
   "metadata": {
    "collapsed": false
   },
   "outputs": [
    {
     "data": {
      "text/plain": [
       "<matplotlib.figure.Figure at 0x1c75ec0c908>"
      ]
     },
     "metadata": {},
     "output_type": "display_data"
    },
    {
     "data": {
      "image/png": "[encoded data removed]",
      "text/plain": [
       "<matplotlib.figure.Figure at 0x1c75ec0c9b0>"
      ]
     },
     "metadata": {},
     "output_type": "display_data"
    }
   ],
   "source": [
    "plt.figure(1)\n",
    "f, (ax1, ax2, ax3, ax4) = plt.subplots(4,sharex=True, sharey=True)\n",
    "\n",
    "sns.boxplot(data=df4, ax=ax1,flierprops= flierprops,palette='autumn')\n",
    "sns.boxplot(data=df6, ax=ax2,flierprops= flierprops,palette='autumn')\n",
    "sns.boxplot(data=df13, ax=ax3,flierprops= flierprops,palette='autumn')\n",
    "sns.boxplot(data=df16, ax=ax4,flierprops= flierprops,palette='autumn')\n",
    "\n",
    "#f.subplots_adjust(hspace=0)\n",
    "plt.setp([a.get_xticklabels() for a in f.axes[:-1]], visible=False)\n",
    "ax4.set_xlabel('Day')\n",
    "ax2.set_xlabel('')\n",
    "ax3.set_xlabel('')\n",
    "ax1.set_xlabel('')\n",
    "ax1.set_title('House 4', rotation='vertical',x= 1.05,y=0.6)\n",
    "ax2.set_title('House 6', rotation='vertical',x= 1.05,y=0.6)\n",
    "ax3.set_title('House 13', rotation='vertical',x= 1.05,y=0.6)\n",
    "ax4.set_title('House 16', rotation='vertical',x= 1.05,y=0.6)\n",
    "ax1.set_ylabel('Electricity Consumption (kWh)',rotation='vertical',x= -0.05,y=-1.0)\n",
    "f.suptitle('Daily Electricity Consumption Summary')\n",
    "plt.savefig('figures/95_percent/daily_houses.eps')\n",
    "plt.savefig('figures/95_percent/daily_houses.pdf')"
   ]
  },
  {
   "cell_type": "markdown",
   "metadata": {
    "collapsed": true
   },
   "source": [
    "## Monthly Exploration"
   ]
  },
  {
   "cell_type": "code",
   "execution_count": 19,
   "metadata": {
    "collapsed": true
   },
   "outputs": [],
   "source": [
    "# keep the house of choice for modelling and the time variable\n",
    "data_modeling = data.copy(deep=True)\n",
    "data_modeling = data_modeling.drop(['Hour','Day'],axis=1)\n",
    "houses=[1,2,4,5,6,7,8,9,10,12,13,15,16,17,18,19,20]\n",
    "house_nr = 4\n",
    "drop_houses = ['House_'+str(i) for i in houses if i != house_nr]\n",
    "data_modeling4 = data_modeling.drop(drop_houses, axis=1)\n",
    "df4 = data_modeling4.pivot(columns=data_modeling4.columns[1], index=data_modeling4.index)\n",
    "df4.columns = df4.columns.droplevel()"
   ]
  },
  {
   "cell_type": "code",
   "execution_count": 20,
   "metadata": {
    "collapsed": true
   },
   "outputs": [],
   "source": [
    "house_nr = 6\n",
    "drop_houses = ['House_'+str(i) for i in houses if i != house_nr]\n",
    "data_modeling6 = data_modeling.drop(drop_houses, axis=1)\n",
    "df6 = data_modeling6.pivot(columns=data_modeling6.columns[1], index=data_modeling6.index)\n",
    "df6.columns = df6.columns.droplevel()"
   ]
  },
  {
   "cell_type": "code",
   "execution_count": 21,
   "metadata": {
    "collapsed": true
   },
   "outputs": [],
   "source": [
    "house_nr = 13\n",
    "drop_houses = ['House_'+str(i) for i in houses if i != house_nr]\n",
    "data_modeling13 = data_modeling.drop(drop_houses, axis=1)\n",
    "df13 = data_modeling13.pivot(columns=data_modeling13.columns[1], index=data_modeling13.index)\n",
    "df13.columns = df13.columns.droplevel()"
   ]
  },
  {
   "cell_type": "code",
   "execution_count": 22,
   "metadata": {
    "collapsed": true
   },
   "outputs": [],
   "source": [
    "house_nr = 16\n",
    "drop_houses = ['House_'+str(i) for i in houses if i != house_nr]\n",
    "data_modeling16 = data_modeling.drop(drop_houses, axis=1)\n",
    "df16 = data_modeling16.pivot(columns=data_modeling16.columns[1], index=data_modeling16.index)\n",
    "df16.columns = df16.columns.droplevel()"
   ]
  },
  {
   "cell_type": "code",
   "execution_count": 23,
   "metadata": {
    "collapsed": false
   },
   "outputs": [
    {
     "data": {
      "text/plain": [
       "<matplotlib.figure.Figure at 0x1c75c7a9400>"
      ]
     },
     "metadata": {},
     "output_type": "display_data"
    },
    {
     "data": {
      "image/png": "[encoded data removed]",
      "text/plain": [
       "<matplotlib.figure.Figure at 0x1c75c7a96a0>"
      ]
     },
     "metadata": {},
     "output_type": "display_data"
    }
   ],
   "source": [
    "plt.figure(1)\n",
    "f, (ax1, ax2, ax3, ax4) = plt.subplots(4,sharex=True, sharey=True)\n",
    "\n",
    "sns.boxplot(data=df4, ax=ax1,flierprops= flierprops)\n",
    "sns.boxplot(data=df6, ax=ax2,flierprops= flierprops)\n",
    "sns.boxplot(data=df13, ax=ax3,flierprops= flierprops)\n",
    "sns.boxplot(data=df16, ax=ax4,flierprops= flierprops)\n",
    "\n",
    "#f.subplots_adjust(hspace=0)\n",
    "plt.setp([a.get_xticklabels() for a in f.axes[:-1]], visible=False)\n",
    "ax4.set_xlabel('Month')\n",
    "ax2.set_xlabel('')\n",
    "ax3.set_xlabel('')\n",
    "ax1.set_xlabel('')\n",
    "ax1.set_title('House 4', rotation='vertical',x= 1.05,y=0.6)\n",
    "ax2.set_title('House 6', rotation='vertical',x= 1.05,y=0.6)\n",
    "ax3.set_title('House 13', rotation='vertical',x= 1.05,y=0.6)\n",
    "ax4.set_title('House 16', rotation='vertical',x= 1.05,y=0.6)\n",
    "ax1.set_ylabel('Electricity Consumption (kWh)',rotation='vertical',x= -0.05,y=-1.0)\n",
    "f.suptitle('Monthly Electricity Consumption Summary')\n",
    "plt.savefig('figures/95_percent/monthly_houses.eps')\n",
    "plt.savefig('figures/95_percent/monthly_houses.pdf')"
   ]
  },
  {
   "cell_type": "code",
   "execution_count": null,
   "metadata": {
    "collapsed": true
   },
   "outputs": [],
   "source": []
  }
 ],
 "metadata": {
  "kernelspec": {
   "display_name": "Python 3",
   "language": "python",
   "name": "python3"
  },
  "language_info": {
   "codemirror_mode": {
    "name": "ipython",
    "version": 3
   },
   "file_extension": ".py",
   "mimetype": "text/x-python",
   "name": "python",
   "nbconvert_exporter": "python",
   "pygments_lexer": "ipython3",
   "version": "3.5.3"
  }
 },
 "nbformat": 4,
 "nbformat_minor": 2
}
