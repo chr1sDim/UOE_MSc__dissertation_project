{
 "cells": [
  {
   "cell_type": "code",
   "execution_count": 1,
   "metadata": {
    "collapsed": true
   },
   "outputs": [],
   "source": [
    "import os\n",
    "import numpy as np \n",
    "import pandas as pd\n",
    "import matplotlib.pyplot as plt\n",
    "import seaborn as sns\n",
    "from sklearn.linear_model import LinearRegression\n",
    "from sklearn.preprocessing import StandardScaler\n",
    "import statsmodels.api as sm\n",
    "from statsmodels.sandbox.regression.predstd import wls_prediction_std\n",
    "from statsmodels.formula.api import ols"
   ]
  },
  {
   "cell_type": "code",
   "execution_count": 2,
   "metadata": {
    "collapsed": true
   },
   "outputs": [],
   "source": [
    "data_process = pd.read_csv('houses_clean.csv',parse_dates=['Time'], index_col='Time') # load the electricity data\n",
    "weather_process = pd.read_csv('weather_data.csv',parse_dates=True, index_col='dateTime')"
   ]
  },
  {
   "cell_type": "code",
   "execution_count": 3,
   "metadata": {
    "collapsed": false
   },
   "outputs": [
    {
     "data": {
      "text/plain": [
       "Index(['Air_temperature', 'Relative_humidity', 'Wind_speed',\n",
       "       'Wind_direction_D1', 'Wind_direction_SD1',\n",
       "       'Average_horizontal_solar_irradiance',\n",
       "       'Total_horizontal_solar_irradiation', 'NR_Wm2_Avg', 'CNR_Wm2_Avg',\n",
       "       'Total_rainfall', 'Average_barometric_pressure'],\n",
       "      dtype='object')"
      ]
     },
     "execution_count": 3,
     "metadata": {},
     "output_type": "execute_result"
    }
   ],
   "source": [
    "weather_process.columns"
   ]
  },
  {
   "cell_type": "code",
   "execution_count": 4,
   "metadata": {
    "collapsed": false
   },
   "outputs": [],
   "source": [
    "# Keep the the dates with less missing values for most houses\n",
    "data = data_process.copy(deep=True)\n",
    "data = data['2014-04':'2015-03']\n",
    "\n",
    "# keep the same time frame for weather data and resample on hourly level by averaging\n",
    "weather = weather_process.copy(deep=True)\n",
    "cols = ['Wind_speed','Wind_direction_D1', 'Wind_direction_SD1', 'Average_horizontal_solar_irradiance', 'Total_horizontal_solar_irradiation', 'NR_Wm2_Avg', 'CNR_Wm2_Avg', 'Average_barometric_pressure']\n",
    "weather = weather.drop(cols,axis=1)\n",
    "weather = weather['2014-04':'2015-03']\n",
    "weather = weather.resample('H').mean()"
   ]
  },
  {
   "cell_type": "code",
   "execution_count": 5,
   "metadata": {
    "collapsed": true
   },
   "outputs": [],
   "source": [
    "# Create seasonal variables\n",
    "#data['Year'] = pd.DatetimeIndex(data.index).year\n",
    "data['Month'] = pd.DatetimeIndex(data.index).month\n",
    "data['Week'] = pd.DatetimeIndex(data.index).week\n",
    "data['DayOfMonth'] = pd.DatetimeIndex(data.index).day\n",
    "#data['DayOfWeek'] =  pd.DatetimeIndex(data.index).dayofweek\n",
    "data['Day'] = pd.DatetimeIndex(data.index).weekday_name\n",
    "data['Hour'] =  pd.DatetimeIndex(data.index).hour\n",
    "\n",
    "# create weather variables\n",
    "data = pd.concat([data,weather], axis=1)"
   ]
  },
  {
   "cell_type": "code",
   "execution_count": 6,
   "metadata": {
    "collapsed": true
   },
   "outputs": [],
   "source": [
    "# keep the house of choice for modelling\n",
    "houses=[1,2,4,5,6,7,8,9,10,12,13,15,16,17,18,19,20]\n",
    "house_nr = 1\n",
    "drop_houses = ['House_'+str(i) for i in houses if i != house_nr]\n",
    "data = data.drop(drop_houses, axis=1)"
   ]
  },
  {
   "cell_type": "code",
   "execution_count": 7,
   "metadata": {
    "collapsed": true
   },
   "outputs": [],
   "source": [
    "# drop nan values\n",
    "data = data.dropna(axis=0,how='any')"
   ]
  },
  {
   "cell_type": "code",
   "execution_count": 8,
   "metadata": {
    "collapsed": false
   },
   "outputs": [
    {
     "data": {
      "text/html": [
       "<div>\n",
       "<table border=\"1\" class=\"dataframe\">\n",
       "  <thead>\n",
       "    <tr style=\"text-align: right;\">\n",
       "      <th></th>\n",
       "      <th>House_1</th>\n",
       "      <th>Month</th>\n",
       "      <th>Week</th>\n",
       "      <th>DayOfMonth</th>\n",
       "      <th>Day</th>\n",
       "      <th>Hour</th>\n",
       "      <th>Air_temperature</th>\n",
       "      <th>Relative_humidity</th>\n",
       "      <th>Total_rainfall</th>\n",
       "    </tr>\n",
       "  </thead>\n",
       "  <tbody>\n",
       "    <tr>\n",
       "      <th>2014-04-01 00:00:00</th>\n",
       "      <td>0.848060</td>\n",
       "      <td>4</td>\n",
       "      <td>14</td>\n",
       "      <td>1</td>\n",
       "      <td>Tuesday</td>\n",
       "      <td>0</td>\n",
       "      <td>11.7450</td>\n",
       "      <td>83.275</td>\n",
       "      <td>0.05</td>\n",
       "    </tr>\n",
       "    <tr>\n",
       "      <th>2014-04-01 01:00:00</th>\n",
       "      <td>0.961215</td>\n",
       "      <td>4</td>\n",
       "      <td>14</td>\n",
       "      <td>1</td>\n",
       "      <td>Tuesday</td>\n",
       "      <td>1</td>\n",
       "      <td>11.4100</td>\n",
       "      <td>85.400</td>\n",
       "      <td>0.00</td>\n",
       "    </tr>\n",
       "    <tr>\n",
       "      <th>2014-04-01 02:00:00</th>\n",
       "      <td>0.873575</td>\n",
       "      <td>4</td>\n",
       "      <td>14</td>\n",
       "      <td>1</td>\n",
       "      <td>Tuesday</td>\n",
       "      <td>2</td>\n",
       "      <td>10.6900</td>\n",
       "      <td>91.900</td>\n",
       "      <td>0.60</td>\n",
       "    </tr>\n",
       "    <tr>\n",
       "      <th>2014-04-01 03:00:00</th>\n",
       "      <td>0.893387</td>\n",
       "      <td>4</td>\n",
       "      <td>14</td>\n",
       "      <td>1</td>\n",
       "      <td>Tuesday</td>\n",
       "      <td>3</td>\n",
       "      <td>10.3250</td>\n",
       "      <td>94.225</td>\n",
       "      <td>0.00</td>\n",
       "    </tr>\n",
       "    <tr>\n",
       "      <th>2014-04-01 04:00:00</th>\n",
       "      <td>0.852123</td>\n",
       "      <td>4</td>\n",
       "      <td>14</td>\n",
       "      <td>1</td>\n",
       "      <td>Tuesday</td>\n",
       "      <td>4</td>\n",
       "      <td>9.9525</td>\n",
       "      <td>95.100</td>\n",
       "      <td>0.00</td>\n",
       "    </tr>\n",
       "  </tbody>\n",
       "</table>\n",
       "</div>"
      ],
      "text/plain": [
       "                      House_1  Month  Week  DayOfMonth      Day  Hour  \\\n",
       "2014-04-01 00:00:00  0.848060      4    14           1  Tuesday     0   \n",
       "2014-04-01 01:00:00  0.961215      4    14           1  Tuesday     1   \n",
       "2014-04-01 02:00:00  0.873575      4    14           1  Tuesday     2   \n",
       "2014-04-01 03:00:00  0.893387      4    14           1  Tuesday     3   \n",
       "2014-04-01 04:00:00  0.852123      4    14           1  Tuesday     4   \n",
       "\n",
       "                     Air_temperature  Relative_humidity  Total_rainfall  \n",
       "2014-04-01 00:00:00          11.7450             83.275            0.05  \n",
       "2014-04-01 01:00:00          11.4100             85.400            0.00  \n",
       "2014-04-01 02:00:00          10.6900             91.900            0.60  \n",
       "2014-04-01 03:00:00          10.3250             94.225            0.00  \n",
       "2014-04-01 04:00:00           9.9525             95.100            0.00  "
      ]
     },
     "execution_count": 8,
     "metadata": {},
     "output_type": "execute_result"
    }
   ],
   "source": [
    "data.head()"
   ]
  },
  {
   "cell_type": "markdown",
   "metadata": {},
   "source": [
    "## Create extra features"
   ]
  },
  {
   "cell_type": "code",
   "execution_count": 9,
   "metadata": {
    "collapsed": true
   },
   "outputs": [],
   "source": [
    "# Week days Feature\n",
    "data.loc[(data['Day'] == 'Monday', 'WeekDays')] = 'WeekDays'\n",
    "data.loc[(data['Day'] == 'Saturday', 'WeekDays')] = 'Saturday'\n",
    "data.loc[(data['Day'] == 'Sunday', 'WeekDays')] = 'Sunday'\n",
    "data.loc[(data['Day'] == 'Tuesday', 'WeekDays')] = 'WeekDays'\n",
    "data.loc[(data['Day'] == 'Wednesday', 'WeekDays')] = 'WeekDays'\n",
    "data.loc[(data['Day'] == 'Thursday', 'WeekDays')] = 'WeekDays'\n",
    "data.loc[(data['Day'] == 'Friday', 'WeekDays')] = 'WeekDays'"
   ]
  },
  {
   "cell_type": "code",
   "execution_count": 10,
   "metadata": {
    "collapsed": true
   },
   "outputs": [],
   "source": [
    "# Season feature\n",
    "data.loc[ (data['Month'] == 1), 'Season'] = 'Winter'\n",
    "data.loc[ (data['Month'] == 2), 'Season'] = 'Winter'\n",
    "data.loc[ (data['Month'] == 12), 'Season'] = 'Winter'\n",
    "data.loc[ (data['Month'] == 3),  'Season'] = 'Spring'\n",
    "data.loc[ (data['Month'] == 4),  'Season'] = 'Spring'\n",
    "data.loc[ (data['Month'] == 5),  'Season'] = 'Spring'\n",
    "data.loc[ (data['Month'] == 6), 'Season'] = 'Summer'\n",
    "data.loc[ (data['Month'] == 7), 'Season'] = 'Summer'\n",
    "data.loc[ (data['Month'] == 8), 'Season'] = 'Summer'\n",
    "data.loc[ (data['Month'] == 9), 'Season'] = 'Autumn' \n",
    "data.loc[ (data['Month'] == 10), 'Season'] = 'Autumn' \n",
    "data.loc[ (data['Month'] == 11), 'Season'] = 'Autumn' "
   ]
  },
  {
   "cell_type": "code",
   "execution_count": 11,
   "metadata": {
    "collapsed": true
   },
   "outputs": [],
   "source": [
    "# Time bulk feature\n",
    "time_bulk_1 = [1,2,3,4]\n",
    "time_bulk_2 = [5,6,7,8]\n",
    "time_bulk_3 = [9,10,11,12]\n",
    "time_bulk_4 = [13,14,15,16]\n",
    "time_bulk_5 = [17,18,19,20]\n",
    "time_bulk_6 = [21,22,23,0]\n",
    "for i in range(0,24):\n",
    "    if i in time_bulk_1:\n",
    "        data.loc[(data['Hour'] == i), 'Time_bulk'] = 'Midnight'\n",
    "    elif i in time_bulk_2:\n",
    "        data.loc[(data['Hour']== i), 'Time_bulk'] = 'Morning'\n",
    "    elif i in time_bulk_3:\n",
    "        data.loc[(data['Hour']== i), 'Time_bulk'] = 'Noon'\n",
    "    elif i in time_bulk_4:\n",
    "        data.loc[(data['Hour']== i), 'Time_bulk'] = 'Afternoon'\n",
    "    elif i in time_bulk_5:\n",
    "        data.loc[(data['Hour']== i), 'Time_bulk'] = 'Evening'\n",
    "    else:\n",
    "        data.loc[(data['Hour']== i), 'Time_bulk'] = 'Night'"
   ]
  },
  {
   "cell_type": "code",
   "execution_count": 12,
   "metadata": {
    "collapsed": true
   },
   "outputs": [],
   "source": [
    "# create trend \n",
    "data = data.assign(Trend = pd.Series(np.arange(len(data))+1).values)"
   ]
  },
  {
   "cell_type": "code",
   "execution_count": 13,
   "metadata": {
    "collapsed": true
   },
   "outputs": [],
   "source": [
    "# create trend square\n",
    "x = (np.arange(data.shape[0]))**2 + 1\n",
    "data = data.assign(Trend_square = pd.Series(x).values)"
   ]
  },
  {
   "cell_type": "markdown",
   "metadata": {},
   "source": [
    "## Prepare data for modeling"
   ]
  },
  {
   "cell_type": "code",
   "execution_count": 14,
   "metadata": {
    "collapsed": true
   },
   "outputs": [],
   "source": [
    "data_modeling = data.copy(deep=True)"
   ]
  },
  {
   "cell_type": "code",
   "execution_count": 15,
   "metadata": {
    "collapsed": false
   },
   "outputs": [
    {
     "data": {
      "text/plain": [
       "Index(['House_1', 'Month', 'Week', 'DayOfMonth', 'Day', 'Hour',\n",
       "       'Air_temperature', 'Relative_humidity', 'Total_rainfall', 'WeekDays',\n",
       "       'Season', 'Time_bulk', 'Trend', 'Trend_square'],\n",
       "      dtype='object')"
      ]
     },
     "execution_count": 15,
     "metadata": {},
     "output_type": "execute_result"
    }
   ],
   "source": [
    "data_modeling.columns"
   ]
  },
  {
   "cell_type": "code",
   "execution_count": 16,
   "metadata": {
    "collapsed": true
   },
   "outputs": [],
   "source": [
    "# drop unwanted features\n",
    "cols = ['Week','Day','Season','Time_bulk','Trend','Trend_square']\n",
    "data_modeling = data_modeling.drop(cols, axis=1)"
   ]
  },
  {
   "cell_type": "code",
   "execution_count": 17,
   "metadata": {
    "collapsed": false
   },
   "outputs": [
    {
     "data": {
      "text/plain": [
       "Index(['House_1', 'Month', 'DayOfMonth', 'Hour', 'Air_temperature',\n",
       "       'Relative_humidity', 'Total_rainfall', 'WeekDays'],\n",
       "      dtype='object')"
      ]
     },
     "execution_count": 17,
     "metadata": {},
     "output_type": "execute_result"
    }
   ],
   "source": [
    "data_modeling.columns"
   ]
  },
  {
   "cell_type": "code",
   "execution_count": 18,
   "metadata": {
    "collapsed": true
   },
   "outputs": [],
   "source": [
    "# creating dummy variables\n",
    "cols =  ['DayOfMonth', 'Hour', 'WeekDays']\n",
    "data_ook = pd.get_dummies(data_modeling, columns=cols, prefix=cols, drop_first=True)\n",
    "data_ook = pd.get_dummies(data_ook, columns=['Month'], prefix='Month', drop_first=False)"
   ]
  },
  {
   "cell_type": "code",
   "execution_count": 19,
   "metadata": {
    "collapsed": true
   },
   "outputs": [],
   "source": [
    "# split depedent and indepedent variables\n",
    "house = 'House_' + str(house_nr)\n",
    "x_train = data_ook.drop(house,axis=1).values.astype(np.float)\n",
    "y_train = data_ook[house].values"
   ]
  },
  {
   "cell_type": "markdown",
   "metadata": {},
   "source": [
    "# Linear Regression"
   ]
  },
  {
   "cell_type": "code",
   "execution_count": 21,
   "metadata": {
    "collapsed": true
   },
   "outputs": [],
   "source": [
    "from sklearn.model_selection import TimeSeriesSplit\n",
    "from sklearn import metrics\n",
    "from sklearn import linear_model\n",
    "from sklearn.model_selection import cross_val_score\n",
    "from sklearn.preprocessing import StandardScaler"
   ]
  },
  {
   "cell_type": "code",
   "execution_count": 32,
   "metadata": {
    "collapsed": true
   },
   "outputs": [],
   "source": [
    "# Scale data\n",
    "standard_scaler = StandardScaler()\n",
    "x_train_sc = standard_scaler.fit_transform(x_train[:,0:3])"
   ]
  },
  {
   "cell_type": "code",
   "execution_count": 35,
   "metadata": {
    "collapsed": false
   },
   "outputs": [],
   "source": [
    "x_train_s = np.c_[x_train_sc, x_train[:,3:]]"
   ]
  },
  {
   "cell_type": "code",
   "execution_count": 45,
   "metadata": {
    "collapsed": false
   },
   "outputs": [
    {
     "name": "stdout",
     "output_type": "stream",
     "text": [
      "On training set, the model achieves R_2 score: 0.151, MAE: 0.110, MDE:0.160\n",
      "On validation set, the model achieves MAE: 0.338, MDE:0.237\n"
     ]
    }
   ],
   "source": [
    "# split data set for ts k-fold cross validation\n",
    "tscv = TimeSeriesSplit(n_splits=5)\n",
    "\n",
    "# add bias term\n",
    "fit_bias = False\n",
    "\n",
    "# Create linear regression object\n",
    "lrm1 = linear_model.LinearRegression(fit_intercept= fit_bias)\n",
    "lrm2 = linear_model.LinearRegression(fit_intercept= fit_bias)\n",
    "\n",
    "# train on the whole data\n",
    "pred = linear_model.LinearRegression(fit_intercept=fit_bias).fit(X = x_train_s, y= y_train).predict(x_train_s)\n",
    "\n",
    "# cross validation\n",
    "scores_mae  = cross_val_score(lrm1, x_train_s, y_train, cv=tscv, scoring='neg_mean_absolute_error')\n",
    "scores_mde  = cross_val_score(lrm2, x_train_s, y_train, cv=tscv, scoring='neg_median_absolute_error')\n",
    "\n",
    "# print scores\n",
    "print('On training set, the model achieves R_2 score: {0:.3f}, MAE: {1:.3f}, MDE:{2:.3f}'.format(metrics.r2_score(y_true=y_train,y_pred=pred),metrics.mean_squared_error(y_true=y_train,y_pred=pred),metrics.median_absolute_error(y_true=y_train,y_pred=pred)))\n",
    "print('On validation set, the model achieves MAE: {0:.3f}, MDE:{1:.3f}'.format(abs(scores_mae.mean()),abs(scores_mde.mean())))"
   ]
  },
  {
   "cell_type": "code",
   "execution_count": 47,
   "metadata": {
    "collapsed": false
   },
   "outputs": [
    {
     "data": {
      "text/plain": [
       "Index(['House_1', 'Month', 'DayOfMonth', 'Hour', 'Air_temperature',\n",
       "       'Relative_humidity', 'Total_rainfall', 'WeekDays'],\n",
       "      dtype='object')"
      ]
     },
     "execution_count": 47,
     "metadata": {},
     "output_type": "execute_result"
    }
   ],
   "source": [
    "data_modeling.columns"
   ]
  },
  {
   "cell_type": "code",
   "execution_count": 65,
   "metadata": {
    "collapsed": false,
    "scrolled": false
   },
   "outputs": [
    {
     "name": "stdout",
     "output_type": "stream",
     "text": [
      "                            OLS Regression Results                            \n",
      "==============================================================================\n",
      "Dep. Variable:                House_1   R-squared:                       0.151\n",
      "Model:                            OLS   Adj. R-squared:                  0.145\n",
      "Method:                 Least Squares   F-statistic:                     22.51\n",
      "Date:                Thu, 22 Jun 2017   Prob (F-statistic):          5.64e-247\n",
      "Time:                        01:51:33   Log-Likelihood:                -2696.4\n",
      "No. Observations:                8524   AIC:                             5529.\n",
      "Df Residuals:                    8456   BIC:                             6008.\n",
      "Df Model:                          67                                         \n",
      "Covariance Type:            nonrobust                                         \n",
      "===========================================================================================\n",
      "                              coef    std err          t      P>|t|      [0.025      0.975]\n",
      "-------------------------------------------------------------------------------------------\n",
      "C(Month)[1]                 0.4097      0.046      8.847      0.000       0.319       0.501\n",
      "C(Month)[2]                 0.5147      0.046     11.100      0.000       0.424       0.606\n",
      "C(Month)[3]                 0.4513      0.044     10.155      0.000       0.364       0.538\n",
      "C(Month)[4]                 0.2819      0.045      6.305      0.000       0.194       0.370\n",
      "C(Month)[5]                 0.2045      0.044      4.634      0.000       0.118       0.291\n",
      "C(Month)[6]                 0.2282      0.044      5.217      0.000       0.142       0.314\n",
      "C(Month)[7]                 0.2342      0.043      5.413      0.000       0.149       0.319\n",
      "C(Month)[8]                 0.2298      0.044      5.241      0.000       0.144       0.316\n",
      "C(Month)[9]                 0.2385      0.046      5.206      0.000       0.149       0.328\n",
      "C(Month)[10]                0.2563      0.047      5.482      0.000       0.165       0.348\n",
      "C(Month)[11]                0.3034      0.048      6.264      0.000       0.208       0.398\n",
      "C(Month)[12]                0.4851      0.047     10.386      0.000       0.394       0.577\n",
      "C(DayOfMonth)[T.2]          0.0280      0.028      0.990      0.322      -0.027       0.083\n",
      "C(DayOfMonth)[T.3]          0.0564      0.028      1.994      0.046       0.001       0.112\n",
      "C(DayOfMonth)[T.4]          0.0228      0.028      0.807      0.420      -0.033       0.078\n",
      "C(DayOfMonth)[T.5]         -0.0023      0.028     -0.082      0.935      -0.058       0.053\n",
      "C(DayOfMonth)[T.6]          0.0134      0.028      0.474      0.636      -0.042       0.069\n",
      "C(DayOfMonth)[T.7]         -0.0491      0.028     -1.725      0.085      -0.105       0.007\n",
      "C(DayOfMonth)[T.8]         -0.0133      0.028     -0.470      0.639      -0.069       0.042\n",
      "C(DayOfMonth)[T.9]         -0.0426      0.028     -1.506      0.132      -0.098       0.013\n",
      "C(DayOfMonth)[T.10]         0.0089      0.029      0.312      0.755      -0.047       0.065\n",
      "C(DayOfMonth)[T.11]         0.0013      0.028      0.048      0.962      -0.054       0.057\n",
      "C(DayOfMonth)[T.12]         0.0114      0.028      0.405      0.686      -0.044       0.067\n",
      "C(DayOfMonth)[T.13]         0.0073      0.028      0.259      0.796      -0.048       0.063\n",
      "C(DayOfMonth)[T.14]         0.0351      0.028      1.241      0.215      -0.020       0.090\n",
      "C(DayOfMonth)[T.15]         0.0216      0.029      0.755      0.450      -0.034       0.078\n",
      "C(DayOfMonth)[T.16]         0.0059      0.029      0.207      0.836      -0.050       0.062\n",
      "C(DayOfMonth)[T.17]        -0.0258      0.028     -0.914      0.361      -0.081       0.030\n",
      "C(DayOfMonth)[T.18]        -0.0217      0.029     -0.760      0.447      -0.078       0.034\n",
      "C(DayOfMonth)[T.19]        -0.0043      0.029     -0.152      0.879      -0.060       0.052\n",
      "C(DayOfMonth)[T.20]         0.0588      0.028      2.081      0.037       0.003       0.114\n",
      "C(DayOfMonth)[T.21]         0.0939      0.028      3.320      0.001       0.038       0.149\n",
      "C(DayOfMonth)[T.22]         0.0733      0.029      2.561      0.010       0.017       0.129\n",
      "C(DayOfMonth)[T.23]         0.1260      0.029      4.360      0.000       0.069       0.183\n",
      "C(DayOfMonth)[T.24]         0.1022      0.029      3.568      0.000       0.046       0.158\n",
      "C(DayOfMonth)[T.25]         0.2056      0.028      7.279      0.000       0.150       0.261\n",
      "C(DayOfMonth)[T.26]         0.1246      0.028      4.408      0.000       0.069       0.180\n",
      "C(DayOfMonth)[T.27]         0.0806      0.029      2.795      0.005       0.024       0.137\n",
      "C(DayOfMonth)[T.28]         0.0364      0.029      1.272      0.204      -0.020       0.093\n",
      "C(DayOfMonth)[T.29]         0.0506      0.029      1.743      0.081      -0.006       0.108\n",
      "C(DayOfMonth)[T.30]         0.0501      0.029      1.711      0.087      -0.007       0.107\n",
      "C(DayOfMonth)[T.31]         0.0536      0.036      1.471      0.141      -0.018       0.125\n",
      "C(WeekDays)[T.Sunday]       0.0599      0.014      4.349      0.000       0.033       0.087\n",
      "C(WeekDays)[T.WeekDays]     0.0068      0.011      0.646      0.518      -0.014       0.028\n",
      "C(Hour)[T.1]                0.1899      0.025      7.605      0.000       0.141       0.239\n",
      "C(Hour)[T.2]                0.2023      0.025      8.107      0.000       0.153       0.251\n",
      "C(Hour)[T.3]                0.2114      0.025      8.465      0.000       0.162       0.260\n",
      "C(Hour)[T.4]                0.2043      0.025      8.178      0.000       0.155       0.253\n",
      "C(Hour)[T.5]                0.1822      0.025      7.289      0.000       0.133       0.231\n",
      "C(Hour)[T.6]                0.1616      0.025      6.469      0.000       0.113       0.211\n",
      "C(Hour)[T.7]                0.1403      0.025      5.614      0.000       0.091       0.189\n",
      "C(Hour)[T.8]                0.1921      0.025      7.677      0.000       0.143       0.241\n",
      "C(Hour)[T.9]                0.1971      0.025      7.837      0.000       0.148       0.246\n",
      "C(Hour)[T.10]               0.1690      0.025      6.678      0.000       0.119       0.219\n",
      "C(Hour)[T.11]               0.1438      0.026      5.631      0.000       0.094       0.194\n",
      "C(Hour)[T.12]               0.1244      0.026      4.831      0.000       0.074       0.175\n",
      "C(Hour)[T.13]               0.1085      0.026      4.191      0.000       0.058       0.159\n",
      "C(Hour)[T.14]               0.0549      0.026      2.115      0.034       0.004       0.106\n",
      "C(Hour)[T.15]               0.0515      0.026      1.990      0.047       0.001       0.102\n",
      "C(Hour)[T.16]               0.0771      0.026      2.992      0.003       0.027       0.128\n",
      "C(Hour)[T.17]               0.2219      0.026      8.691      0.000       0.172       0.272\n",
      "C(Hour)[T.18]               0.2590      0.025     10.228      0.000       0.209       0.309\n",
      "C(Hour)[T.19]               0.1863      0.025      7.412      0.000       0.137       0.236\n",
      "C(Hour)[T.20]               0.1811      0.025      7.238      0.000       0.132       0.230\n",
      "C(Hour)[T.21]               0.3484      0.025     13.953      0.000       0.299       0.397\n",
      "C(Hour)[T.22]               0.2390      0.025      9.583      0.000       0.190       0.288\n",
      "C(Hour)[T.23]               0.0564      0.025      2.263      0.024       0.008       0.105\n",
      "Relative_humidity          -0.0012      0.000     -3.181      0.001      -0.002      -0.000\n",
      "==============================================================================\n",
      "Omnibus:                     4907.437   Durbin-Watson:                   1.181\n",
      "Prob(Omnibus):                  0.000   Jarque-Bera (JB):            58393.416\n",
      "Skew:                           2.553   Prob(JB):                         0.00\n",
      "Kurtosis:                      14.762   Cond. No.                     3.83e+03\n",
      "==============================================================================\n",
      "\n",
      "Warnings:\n",
      "[1] Standard Errors assume that the covariance matrix of the errors is correctly specified.\n",
      "[2] The condition number is large, 3.83e+03. This might indicate that there are\n",
      "strong multicollinearity or other numerical problems.\n"
     ]
    }
   ],
   "source": [
    "model_3 = ols(formula='House_1 ~ Relative_humidity + C(Month) + C(DayOfMonth) + C(WeekDays) + C(Hour) -1', data=data, missing='drop').fit()\n",
    "print(model_3.summary())"
   ]
  },
  {
   "cell_type": "code",
   "execution_count": 66,
   "metadata": {
    "collapsed": false
   },
   "outputs": [
    {
     "name": "stdout",
     "output_type": "stream",
     "text": [
      "                       sum_sq      df          F         PR(>F)\n",
      "C(Month)            94.603820    12.0  70.952075  5.092698e-166\n",
      "C(DayOfMonth)       25.295490    30.0   7.588563   9.363121e-32\n",
      "C(WeekDays)          2.968518     2.0  13.358182   1.613469e-06\n",
      "C(Hour)             47.135465    23.0  18.444107   1.893948e-73\n",
      "Relative_humidity    1.124291     1.0  10.118507   1.473182e-03\n",
      "Residual           939.566008  8456.0        NaN            NaN\n"
     ]
    }
   ],
   "source": [
    "print(sm.stats.anova_lm(model_3, typ=2))"
   ]
  },
  {
   "cell_type": "code",
   "execution_count": null,
   "metadata": {
    "collapsed": true
   },
   "outputs": [],
   "source": []
  },
  {
   "cell_type": "code",
   "execution_count": null,
   "metadata": {
    "collapsed": true
   },
   "outputs": [],
   "source": []
  }
 ],
 "metadata": {
  "kernelspec": {
   "display_name": "Python 3",
   "language": "python",
   "name": "python3"
  },
  "language_info": {
   "codemirror_mode": {
    "name": "ipython",
    "version": 3
   },
   "file_extension": ".py",
   "mimetype": "text/x-python",
   "name": "python",
   "nbconvert_exporter": "python",
   "pygments_lexer": "ipython3",
   "version": "3.5.3"
  }
 },
 "nbformat": 4,
 "nbformat_minor": 2
}
