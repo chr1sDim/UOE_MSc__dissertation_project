{
 "cells": [
  {
   "cell_type": "code",
   "execution_count": 1,
   "metadata": {
    "collapsed": true
   },
   "outputs": [],
   "source": [
    "from __future__ import division\n",
    "import os\n",
    "import numpy as np \n",
    "import pandas as pd\n",
    "from helpers import data_provider\n",
    "import matplotlib.pyplot as plt\n",
    "import seaborn as sns\n",
    "from scipy import stats"
   ]
  },
  {
   "cell_type": "code",
   "execution_count": 3,
   "metadata": {
    "collapsed": true
   },
   "outputs": [],
   "source": [
    "# load the results csv\n",
    "data = pd.read_csv('results_xgboost_regression.csv',index_col='House')\n",
    "data = data.drop(['Unnamed: 0'],axis=1)\n",
    "# load sociodempgraphics data\n",
    "socio = pd.read_csv('sociodemographics.csv',index_col='House')\n",
    "# make one datagframe\n",
    "analysis = pd.concat([data,socio],axis=1)"
   ]
  },
  {
   "cell_type": "code",
   "execution_count": 6,
   "metadata": {
    "collapsed": true
   },
   "outputs": [],
   "source": [
    "load = pd.read_csv('clean_houses_95.csv',parse_dates=['Time'], index_col='Time')"
   ]
  },
  {
   "cell_type": "code",
   "execution_count": 7,
   "metadata": {
    "collapsed": false
   },
   "outputs": [],
   "source": [
    "averages = load.mean()"
   ]
  },
  {
   "cell_type": "code",
   "execution_count": 9,
   "metadata": {
    "collapsed": false
   },
   "outputs": [],
   "source": [
    "analysis['average'] = averages.values"
   ]
  },
  {
   "cell_type": "markdown",
   "metadata": {},
   "source": [
    "## Analysis between number of residents"
   ]
  },
  {
   "cell_type": "code",
   "execution_count": 5,
   "metadata": {
    "collapsed": true
   },
   "outputs": [],
   "source": [
    "analysis.loc[(analysis['Number_of_residents'] == 2, 'Occupants>2')] = True\n",
    "analysis.loc[(analysis['Number_of_residents'] > 2, 'Occupants>2')] = False"
   ]
  },
  {
   "cell_type": "code",
   "execution_count": 6,
   "metadata": {
    "collapsed": true
   },
   "outputs": [],
   "source": [
    "occ_2 = analysis[analysis['Occupants>2'] == True]['test_r_squared_adj']\n",
    "occ_4 = analysis[analysis['Occupants>2'] == False]['test_r_squared_adj']"
   ]
  },
  {
   "cell_type": "markdown",
   "metadata": {},
   "source": [
    "The t-test tests the hypothesis that two samples are significantly different. It returns a p-value that expresses the probability that this null hypothesis is wrong: \n",
    "\n",
    "H_null : Occ_2 = Occ_4"
   ]
  },
  {
   "cell_type": "code",
   "execution_count": 8,
   "metadata": {
    "collapsed": false
   },
   "outputs": [
    {
     "data": {
      "text/plain": [
       "Ttest_indResult(statistic=1.2648646110555188, pvalue=0.22656976543918306)"
      ]
     },
     "execution_count": 8,
     "metadata": {},
     "output_type": "execute_result"
    }
   ],
   "source": [
    "stats.ttest_ind(occ_2, occ_4)"
   ]
  },
  {
   "cell_type": "markdown",
   "metadata": {},
   "source": [
    "The p-value is large 23% that means that we cannot reject the jull hypothesis of equal averages."
   ]
  },
  {
   "cell_type": "code",
   "execution_count": 9,
   "metadata": {
    "collapsed": false
   },
   "outputs": [
    {
     "data": {
      "text/plain": [
       "Ttest_indResult(statistic=-1.1277255373448309, pvalue=0.2783926916592499)"
      ]
     },
     "execution_count": 9,
     "metadata": {},
     "output_type": "execute_result"
    }
   ],
   "source": [
    "occ_2 = analysis[analysis['Occupants>2'] == True]['test_mape']\n",
    "occ_4 = analysis[analysis['Occupants>2'] == False]['test_mape']\n",
    "stats.ttest_ind(occ_2, occ_4)"
   ]
  },
  {
   "cell_type": "code",
   "execution_count": 23,
   "metadata": {
    "collapsed": false
   },
   "outputs": [
    {
     "data": {
      "text/plain": [
       "Ttest_indResult(statistic=-0.90725244157037122, pvalue=0.37962470301146023)"
      ]
     },
     "execution_count": 23,
     "metadata": {},
     "output_type": "execute_result"
    }
   ],
   "source": [
    "occ_2 = analysis[analysis['Occupants>2'] == True]['average']\n",
    "occ_4 = analysis[analysis['Occupants>2'] == False]['average']\n",
    "stats.ttest_ind(occ_2, occ_4)"
   ]
  },
  {
   "cell_type": "code",
   "execution_count": 33,
   "metadata": {
    "collapsed": true
   },
   "outputs": [],
   "source": [
    "analysis.loc[(analysis['Number_of_residents'] == 2, 'Occupants')] = \"Equal two\"\n",
    "analysis.loc[(analysis['Number_of_residents'] > 2, 'Occupants')] = \"Greater than two\""
   ]
  },
  {
   "cell_type": "code",
   "execution_count": 38,
   "metadata": {
    "collapsed": false
   },
   "outputs": [
    {
     "data": {
      "image/png": "[encoded data removed]",
      "text/plain": [
       "<matplotlib.figure.Figure at 0x1dc7dd42d30>"
      ]
     },
     "metadata": {},
     "output_type": "display_data"
    }
   ],
   "source": [
    "plt.figure(1)\n",
    "sns.boxplot(x='Occupants', y='test_r_squared_adj',data=analysis)\n",
    "plt.ylabel(r'Adjusted $R^2$')\n",
    "plt.xlabel('Number of occupants')\n",
    "plt.title(r'Adjusted $R^2$ on test set per number of occupants')\n",
    "plt.savefig('figures/sociodemograhics/adj_rsquared_occupants.eps')\n",
    "plt.savefig('figures/sociodemograhics/adj_rsquared_occupants.pdf')"
   ]
  },
  {
   "cell_type": "markdown",
   "metadata": {
    "collapsed": true
   },
   "source": [
    "## Analysis of occupant type"
   ]
  },
  {
   "cell_type": "code",
   "execution_count": 10,
   "metadata": {
    "collapsed": true
   },
   "outputs": [],
   "source": [
    "analysis.loc[(analysis['Resident_type'] == 'Pensioners', 'working_class')] = 'Pensioners'\n",
    "analysis.loc[(analysis['Resident_type'] == 'Family', 'working_class')] = 'Family'\n",
    "analysis.loc[(analysis['Resident_type'] == 'Working Couple', 'working_class')] = 'Working_couple'"
   ]
  },
  {
   "cell_type": "code",
   "execution_count": 12,
   "metadata": {
    "collapsed": false
   },
   "outputs": [
    {
     "data": {
      "text/plain": [
       "Ttest_indResult(statistic=-1.7510163713826126, pvalue=0.12340988353132498)"
      ]
     },
     "execution_count": 12,
     "metadata": {},
     "output_type": "execute_result"
    }
   ],
   "source": [
    "pens = analysis[analysis['working_class'] == 'Pensioners']['test_r_squared_adj']\n",
    "works = analysis[analysis['working_class'] == 'Working_couple']['test_r_squared_adj']\n",
    "stats.ttest_ind(pens, works)"
   ]
  },
  {
   "cell_type": "code",
   "execution_count": 13,
   "metadata": {
    "collapsed": false
   },
   "outputs": [
    {
     "data": {
      "text/plain": [
       "Ttest_indResult(statistic=1.2973517318297738, pvalue=0.23562772800138659)"
      ]
     },
     "execution_count": 13,
     "metadata": {},
     "output_type": "execute_result"
    }
   ],
   "source": [
    "pens = analysis[analysis['working_class'] == 'Pensioners']['test_mape']\n",
    "works = analysis[analysis['working_class'] == 'Working_couple']['test_mape']\n",
    "stats.ttest_ind(pens, works)"
   ]
  },
  {
   "cell_type": "code",
   "execution_count": 14,
   "metadata": {
    "collapsed": false
   },
   "outputs": [
    {
     "data": {
      "text/plain": [
       "Ttest_indResult(statistic=1.1446184676154505, pvalue=0.28999172349663044)"
      ]
     },
     "execution_count": 14,
     "metadata": {},
     "output_type": "execute_result"
    }
   ],
   "source": [
    "pens = analysis[analysis['working_class'] == 'Pensioners']['average']\n",
    "works = analysis[analysis['working_class'] == 'Working_couple']['average']\n",
    "stats.ttest_ind(pens, works)"
   ]
  },
  {
   "cell_type": "code",
   "execution_count": 15,
   "metadata": {
    "collapsed": false
   },
   "outputs": [
    {
     "data": {
      "text/plain": [
       "Ttest_indResult(statistic=2.1070852119917745, pvalue=0.056825208957830907)"
      ]
     },
     "execution_count": 15,
     "metadata": {},
     "output_type": "execute_result"
    }
   ],
   "source": [
    "pens = analysis[analysis['working_class'] == 'Working_couple']['test_r_squared_adj']\n",
    "works = analysis[analysis['working_class'] == 'Family']['test_r_squared_adj']\n",
    "stats.ttest_ind(pens, works)"
   ]
  },
  {
   "cell_type": "code",
   "execution_count": 16,
   "metadata": {
    "collapsed": false
   },
   "outputs": [
    {
     "data": {
      "text/plain": [
       "Ttest_indResult(statistic=-1.8252062122277295, pvalue=0.092946786575367743)"
      ]
     },
     "execution_count": 16,
     "metadata": {},
     "output_type": "execute_result"
    }
   ],
   "source": [
    "pens = analysis[analysis['working_class'] == 'Working_couple']['test_mape']\n",
    "works = analysis[analysis['working_class'] == 'Family']['test_mape']\n",
    "stats.ttest_ind(pens, works)"
   ]
  },
  {
   "cell_type": "code",
   "execution_count": 17,
   "metadata": {
    "collapsed": false
   },
   "outputs": [
    {
     "data": {
      "text/plain": [
       "Ttest_indResult(statistic=-1.4623613483337639, pvalue=0.16933359710290447)"
      ]
     },
     "execution_count": 17,
     "metadata": {},
     "output_type": "execute_result"
    }
   ],
   "source": [
    "pens = analysis[analysis['working_class'] == 'Working_couple']['average']\n",
    "works = analysis[analysis['working_class'] == 'Family']['average']\n",
    "stats.ttest_ind(pens, works)"
   ]
  },
  {
   "cell_type": "code",
   "execution_count": 18,
   "metadata": {
    "collapsed": false
   },
   "outputs": [
    {
     "data": {
      "text/plain": [
       "Ttest_indResult(statistic=-0.42824968778409078, pvalue=0.67853546172604073)"
      ]
     },
     "execution_count": 18,
     "metadata": {},
     "output_type": "execute_result"
    }
   ],
   "source": [
    "pens = analysis[analysis['working_class'] == 'Pensioners']['test_r_squared_adj']\n",
    "works = analysis[analysis['working_class'] == 'Family']['test_r_squared_adj']\n",
    "stats.ttest_ind(pens, works)"
   ]
  },
  {
   "cell_type": "code",
   "execution_count": 19,
   "metadata": {
    "collapsed": false
   },
   "outputs": [
    {
     "data": {
      "text/plain": [
       "Ttest_indResult(statistic=-0.13861024432869803, pvalue=0.89281003795122893)"
      ]
     },
     "execution_count": 19,
     "metadata": {},
     "output_type": "execute_result"
    }
   ],
   "source": [
    "pens = analysis[analysis['working_class'] == 'Pensioners']['test_mape']\n",
    "works = analysis[analysis['working_class'] == 'Family']['test_mape']\n",
    "stats.ttest_ind(pens, works)"
   ]
  },
  {
   "cell_type": "code",
   "execution_count": 20,
   "metadata": {
    "collapsed": false
   },
   "outputs": [
    {
     "data": {
      "text/plain": [
       "Ttest_indResult(statistic=-0.24261061223203209, pvalue=0.8137456067394957)"
      ]
     },
     "execution_count": 20,
     "metadata": {},
     "output_type": "execute_result"
    }
   ],
   "source": [
    "pens = analysis[analysis['working_class'] == 'Pensioners']['average']\n",
    "works = analysis[analysis['working_class'] == 'Family']['average']\n",
    "stats.ttest_ind(pens, works)"
   ]
  },
  {
   "cell_type": "code",
   "execution_count": 14,
   "metadata": {
    "collapsed": false
   },
   "outputs": [
    {
     "data": {
      "image/png": "[encoded data removed]",
      "text/plain": [
       "<matplotlib.figure.Figure at 0x1c6a0342be0>"
      ]
     },
     "metadata": {},
     "output_type": "display_data"
    }
   ],
   "source": [
    "plt.figure(1)\n",
    "sns.boxplot(x='working_class', y='test_r_squared_adj',data=analysis)\n",
    "plt.ylabel(r'Adjusted $R^2$')\n",
    "plt.xlabel('Type of Occupants')\n",
    "plt.title(r'Adjusted $R^2$ on test set per type of occupants')\n",
    "plt.savefig('figures/sociodemograhics/adj_rsquared_working.eps')\n",
    "plt.savefig('figures/sociodemograhics/adj_rsquared_working.pdf')"
   ]
  },
  {
   "cell_type": "code",
   "execution_count": 21,
   "metadata": {
    "collapsed": false
   },
   "outputs": [
    {
     "data": {
      "image/png": "[encoded data removed]",
      "text/plain": [
       "<matplotlib.figure.Figure at 0x2d4e7492e48>"
      ]
     },
     "metadata": {},
     "output_type": "display_data"
    }
   ],
   "source": [
    "plt.figure(1)\n",
    "sns.boxplot(x='Resident_type', y='test_r_squared_adj',data=analysis)\n",
    "plt.ylabel(r'Adjusted $R^2$')\n",
    "plt.xlabel('Type of Occupants')\n",
    "plt.title(r'Adjusted $R^2$ on test set per type of occupants')\n",
    "plt.savefig('figures/sociodemograhics/adj_rsquared_res_type.eps')\n",
    "plt.savefig('figures/sociodemograhics/adj_rsquared_res_type.pdf')"
   ]
  },
  {
   "cell_type": "markdown",
   "metadata": {},
   "source": [
    "## Analysis of bulding age"
   ]
  },
  {
   "cell_type": "code",
   "execution_count": 24,
   "metadata": {
    "collapsed": false
   },
   "outputs": [],
   "source": [
    "analysis.loc[(analysis['Building_age'] <50 , 'b_age')] = 'New'\n",
    "analysis.loc[(analysis['Building_age'] > 50, 'b_age')] = 'Old'"
   ]
  },
  {
   "cell_type": "code",
   "execution_count": 25,
   "metadata": {
    "collapsed": false
   },
   "outputs": [
    {
     "data": {
      "text/plain": [
       "Ttest_indResult(statistic=-0.38805836236729713, pvalue=0.70342456211830418)"
      ]
     },
     "execution_count": 25,
     "metadata": {},
     "output_type": "execute_result"
    }
   ],
   "source": [
    "new = analysis[analysis['b_age'] == 'New']['test_r_squared_adj']\n",
    "old = analysis[analysis['b_age'] == 'Old']['test_r_squared_adj']\n",
    "stats.ttest_ind(new, old)"
   ]
  },
  {
   "cell_type": "code",
   "execution_count": 26,
   "metadata": {
    "collapsed": false
   },
   "outputs": [
    {
     "data": {
      "text/plain": [
       "Ttest_indResult(statistic=0.61311394402188391, pvalue=0.54898528386167289)"
      ]
     },
     "execution_count": 26,
     "metadata": {},
     "output_type": "execute_result"
    }
   ],
   "source": [
    "occ_2 = analysis[analysis['b_age'] == 'New']['test_mape']\n",
    "occ_4 = analysis[analysis['b_age'] == 'Old']['test_mape']\n",
    "stats.ttest_ind(occ_2, occ_4)"
   ]
  },
  {
   "cell_type": "code",
   "execution_count": 30,
   "metadata": {
    "collapsed": false
   },
   "outputs": [
    {
     "data": {
      "text/plain": [
       "Ttest_indResult(statistic=0.62972474657504551, pvalue=0.53834917953524641)"
      ]
     },
     "execution_count": 30,
     "metadata": {},
     "output_type": "execute_result"
    }
   ],
   "source": [
    "occ_2 = analysis[analysis['b_age'] == 'New']['average']\n",
    "occ_4 = analysis[analysis['b_age'] == 'Old']['average']\n",
    "stats.ttest_ind(occ_2, occ_4)"
   ]
  },
  {
   "cell_type": "code",
   "execution_count": 18,
   "metadata": {
    "collapsed": false
   },
   "outputs": [
    {
     "data": {
      "image/png": "[encoded data removed]",
      "text/plain": [
       "<matplotlib.figure.Figure at 0x1c6a09760f0>"
      ]
     },
     "metadata": {},
     "output_type": "display_data"
    }
   ],
   "source": [
    "plt.figure(1)\n",
    "sns.boxplot(x='b_age', y='test_r_squared_adj',data=analysis)\n",
    "plt.ylabel(r'Adjusted $R^2$')\n",
    "plt.xlabel('Bulding Age')\n",
    "plt.title(r'Adjusted $R^2$ on test set per bulding age')\n",
    "plt.savefig('figures/sociodemograhics/adj_rsquared_bage.eps')\n",
    "plt.savefig('figures/sociodemograhics/adj_rsquared_bage.pdf')"
   ]
  },
  {
   "cell_type": "markdown",
   "metadata": {},
   "source": [
    "## Analysis of appliances"
   ]
  },
  {
   "cell_type": "code",
   "execution_count": 19,
   "metadata": {
    "collapsed": false
   },
   "outputs": [
    {
     "data": {
      "text/plain": [
       "count    17.000000\n",
       "mean     31.352941\n",
       "std       9.727160\n",
       "min      15.000000\n",
       "25%      25.000000\n",
       "50%      31.000000\n",
       "75%      35.000000\n",
       "max      49.000000\n",
       "Name: Appliances, dtype: float64"
      ]
     },
     "execution_count": 19,
     "metadata": {},
     "output_type": "execute_result"
    }
   ],
   "source": [
    "analysis.Appliances.describe()"
   ]
  },
  {
   "cell_type": "code",
   "execution_count": 40,
   "metadata": {
    "collapsed": false
   },
   "outputs": [],
   "source": [
    "analysis.loc[(analysis['Appliances'] <= 31 , 'num_app')] = 'Less than 31'\n",
    "analysis.loc[(analysis['Appliances'] > 31, 'num_app')] = 'More than 31'"
   ]
  },
  {
   "cell_type": "code",
   "execution_count": 41,
   "metadata": {
    "collapsed": false
   },
   "outputs": [
    {
     "data": {
      "text/plain": [
       "Ttest_indResult(statistic=1.2470253531011724, pvalue=0.23150898017906746)"
      ]
     },
     "execution_count": 41,
     "metadata": {},
     "output_type": "execute_result"
    }
   ],
   "source": [
    "less = analysis[analysis['num_app'] == 'Less than 31']['test_r_squared_adj']\n",
    "more = analysis[analysis['num_app'] == 'More than 31']['test_r_squared_adj']\n",
    "stats.ttest_ind(more, less)"
   ]
  },
  {
   "cell_type": "code",
   "execution_count": 42,
   "metadata": {
    "collapsed": false
   },
   "outputs": [
    {
     "data": {
      "text/plain": [
       "Ttest_indResult(statistic=-1.4623554255228099, pvalue=0.16427904007785896)"
      ]
     },
     "execution_count": 42,
     "metadata": {},
     "output_type": "execute_result"
    }
   ],
   "source": [
    "less = analysis[analysis['num_app'] == 'Less than 31']['test_mape']\n",
    "more = analysis[analysis['num_app'] == 'More than 31']['test_mape']\n",
    "stats.ttest_ind(more, less)"
   ]
  },
  {
   "cell_type": "code",
   "execution_count": 43,
   "metadata": {
    "collapsed": false
   },
   "outputs": [
    {
     "data": {
      "text/plain": [
       "Ttest_indResult(statistic=0.92886967591059477, pvalue=0.36766394319781537)"
      ]
     },
     "execution_count": 43,
     "metadata": {},
     "output_type": "execute_result"
    }
   ],
   "source": [
    "less = analysis[analysis['num_app'] == 'Less than 31']['average']\n",
    "more = analysis[analysis['num_app'] == 'More than 31']['average']\n",
    "stats.ttest_ind(more, less)"
   ]
  },
  {
   "cell_type": "code",
   "execution_count": 46,
   "metadata": {
    "collapsed": false
   },
   "outputs": [
    {
     "data": {
      "image/png": "[encoded data removed]",
      "text/plain": [
       "<matplotlib.figure.Figure at 0x1cbd7247780>"
      ]
     },
     "metadata": {},
     "output_type": "display_data"
    }
   ],
   "source": [
    "plt.figure(1)\n",
    "sns.boxplot(x='num_app', y='test_mape',data=analysis)\n",
    "plt.ylabel('MAPE')\n",
    "plt.xlabel('Number of Appliances')\n",
    "plt.title('MAPE on test set per number of appliances')\n",
    "plt.savefig('figures/sociodemograhics/mape_apps.eps')\n",
    "plt.savefig('figures/sociodemograhics/mape_apps.pdf')"
   ]
  },
  {
   "cell_type": "markdown",
   "metadata": {},
   "source": [
    "## Number of bedrooms"
   ]
  },
  {
   "cell_type": "code",
   "execution_count": 36,
   "metadata": {
    "collapsed": true
   },
   "outputs": [],
   "source": [
    "analysis.loc[(analysis['Number_of_bedrooms'] <= 3 , 'num_bed')] = 'Less than 3'\n",
    "analysis.loc[(analysis['Number_of_bedrooms'] > 3, 'num_bed')] = 'More than 3'"
   ]
  },
  {
   "cell_type": "code",
   "execution_count": 37,
   "metadata": {
    "collapsed": false
   },
   "outputs": [
    {
     "data": {
      "text/plain": [
       "Ttest_indResult(statistic=-0.089596796146057159, pvalue=0.9297930197249854)"
      ]
     },
     "execution_count": 37,
     "metadata": {},
     "output_type": "execute_result"
    }
   ],
   "source": [
    "less = analysis[analysis['num_bed'] == 'Less than 3']['test_r_squared_adj']\n",
    "more = analysis[analysis['num_bed'] == 'More than 3']['test_r_squared_adj']\n",
    "stats.ttest_ind(more, less)"
   ]
  },
  {
   "cell_type": "code",
   "execution_count": 38,
   "metadata": {
    "collapsed": false
   },
   "outputs": [
    {
     "data": {
      "text/plain": [
       "Ttest_indResult(statistic=-0.7549138482717267, pvalue=0.46198985691128402)"
      ]
     },
     "execution_count": 38,
     "metadata": {},
     "output_type": "execute_result"
    }
   ],
   "source": [
    "less = analysis[analysis['num_bed'] == 'Less than 3']['test_mape']\n",
    "more = analysis[analysis['num_bed'] == 'More than 3']['test_mape']\n",
    "stats.ttest_ind(more, less)"
   ]
  },
  {
   "cell_type": "code",
   "execution_count": 39,
   "metadata": {
    "collapsed": false
   },
   "outputs": [
    {
     "data": {
      "text/plain": [
       "Ttest_indResult(statistic=1.0445433396873185, pvalue=0.31277625523249747)"
      ]
     },
     "execution_count": 39,
     "metadata": {},
     "output_type": "execute_result"
    }
   ],
   "source": [
    "less = analysis[analysis['num_bed'] == 'Less than 3']['average']\n",
    "more = analysis[analysis['num_bed'] == 'More than 3']['average']\n",
    "stats.ttest_ind(more, less)"
   ]
  },
  {
   "cell_type": "code",
   "execution_count": 27,
   "metadata": {
    "collapsed": false
   },
   "outputs": [
    {
     "data": {
      "image/png": "[encoded data removed]",
      "text/plain": [
       "<matplotlib.figure.Figure at 0x1c6a08a95c0>"
      ]
     },
     "metadata": {},
     "output_type": "display_data"
    }
   ],
   "source": [
    "plt.figure(1)\n",
    "sns.boxplot(x='num_bed', y='test_r_squared_adj',data=analysis)\n",
    "plt.ylabel(r'Adjusted $R^2$')\n",
    "plt.xlabel('Number of Bedrooms')\n",
    "plt.title(r'Adjusted $R^2$ on test set per number of bedrooms')\n",
    "plt.savefig('figures/sociodemograhics/adj_rsquared_beds.eps')\n",
    "plt.savefig('figures/sociodemograhics/adj_rsquared_beds.pdf')"
   ]
  },
  {
   "cell_type": "markdown",
   "metadata": {},
   "source": [
    "## Bulding Type"
   ]
  },
  {
   "cell_type": "code",
   "execution_count": 31,
   "metadata": {
    "collapsed": false
   },
   "outputs": [
    {
     "data": {
      "text/plain": [
       "Ttest_indResult(statistic=-0.059825729342130915, pvalue=0.95308422343595989)"
      ]
     },
     "execution_count": 31,
     "metadata": {},
     "output_type": "execute_result"
    }
   ],
   "source": [
    "less = analysis[analysis['Bulding_type'] == 'Detached']['test_r_squared_adj']\n",
    "more = analysis[analysis['Bulding_type'] == 'Semi-detached']['test_r_squared_adj']\n",
    "stats.ttest_ind(more, less)"
   ]
  },
  {
   "cell_type": "code",
   "execution_count": 32,
   "metadata": {
    "collapsed": false
   },
   "outputs": [
    {
     "data": {
      "text/plain": [
       "Ttest_indResult(statistic=-0.061864418433907789, pvalue=0.95148760669305943)"
      ]
     },
     "execution_count": 32,
     "metadata": {},
     "output_type": "execute_result"
    }
   ],
   "source": [
    "less = analysis[analysis['Bulding_type'] == 'Detached']['test_mape']\n",
    "more = analysis[analysis['Bulding_type'] == 'Semi-detached']['test_mape']\n",
    "stats.ttest_ind(more, less)"
   ]
  },
  {
   "cell_type": "code",
   "execution_count": 33,
   "metadata": {
    "collapsed": false
   },
   "outputs": [
    {
     "data": {
      "text/plain": [
       "Ttest_indResult(statistic=-0.87954337420308393, pvalue=0.39297966341002877)"
      ]
     },
     "execution_count": 33,
     "metadata": {},
     "output_type": "execute_result"
    }
   ],
   "source": [
    "less = analysis[analysis['Bulding_type'] == 'Detached']['average']\n",
    "more = analysis[analysis['Bulding_type'] == 'Semi-detached']['average']\n",
    "stats.ttest_ind(more, less)"
   ]
  },
  {
   "cell_type": "code",
   "execution_count": 7,
   "metadata": {
    "collapsed": false
   },
   "outputs": [
    {
     "data": {
      "image/png": "[encoded data removed]",
      "text/plain": [
       "<matplotlib.figure.Figure at 0x250604ce7b8>"
      ]
     },
     "metadata": {},
     "output_type": "display_data"
    }
   ],
   "source": [
    "plt.figure(1)\n",
    "sns.boxplot(x='Bulding_type', y='test_r_squared_adj',data=analysis)\n",
    "plt.ylabel(r'Adjusted $R^2$')\n",
    "plt.xlabel('Building Type')\n",
    "plt.title(r'Adjusted $R^2$ on test set per building type')\n",
    "plt.savefig('figures/sociodemograhics/adj_rsquared_btype.eps')\n",
    "plt.savefig('figures/sociodemograhics/adj_rsquared_btype.pdf')"
   ]
  },
  {
   "cell_type": "code",
   "execution_count": null,
   "metadata": {
    "collapsed": true
   },
   "outputs": [],
   "source": []
  }
 ],
 "metadata": {
  "kernelspec": {
   "display_name": "Python 3",
   "language": "python",
   "name": "python3"
  },
  "language_info": {
   "codemirror_mode": {
    "name": "ipython",
    "version": 3
   },
   "file_extension": ".py",
   "mimetype": "text/x-python",
   "name": "python",
   "nbconvert_exporter": "python",
   "pygments_lexer": "ipython3",
   "version": "3.5.3"
  }
 },
 "nbformat": 4,
 "nbformat_minor": 2
}
